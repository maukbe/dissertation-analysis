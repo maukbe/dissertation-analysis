{
 "cells": [
  {
   "cell_type": "code",
   "execution_count": 31,
   "metadata": {},
   "outputs": [],
   "source": [
    "import anytree.exporter as atex\n",
    "import anytree as at\n",
    "import json"
   ]
  },
  {
   "cell_type": "code",
   "execution_count": 32,
   "metadata": {},
   "outputs": [],
   "source": [
    "data = open('./js/example_ast_mod.json')\n",
    "ast = json.load(data)"
   ]
  },
  {
   "cell_type": "code",
   "execution_count": 33,
   "metadata": {},
   "outputs": [],
   "source": [
    "def tree_builder(d, p_uid='root', l=0):\n",
    "\n",
    "    for i, (k, v) in enumerate(d.items()):\n",
    "        node_uid = 'l{}n{}'.format(l, i)\n",
    "        node = nodes[k] = at.Node(\n",
    "            name   = node_uid,\n",
    "            key    = k,\n",
    "            parent = nodes[p_uid]\n",
    "        )\n",
    "        if isinstance(v, dict):\n",
    "            node.an_attr = ''\n",
    "            tree_builder(v, k, l + 1)\n",
    "        else:\n",
    "            node.an_attr = v"
   ]
  },
  {
   "cell_type": "code",
   "execution_count": 34,
   "metadata": {},
   "outputs": [
    {
     "name": "stdout",
     "output_type": "stream",
     "text": [
      "root|\n",
      "├── type|Program\n",
      "├── body|\n",
      "│   ├── body0|\n",
      "│   │   ├── type|VariableDeclaration\n",
      "│   │   ├── declarations|[{'type': 'VariableDeclarator', 'id': {'type': 'Identifier', 'name': 'add'}, 'init': {'type': 'ArrowFunctionExpression', 'id': None, 'expression': False, 'generator': False, 'async': False, 'params': [{'type': 'Identifier', 'name': 'num1'}, {'type': 'Identifier', 'name': 'num2'}], 'body': {'type': 'BlockStatement', 'body': [{'type': 'ReturnStatement', 'argument': {'type': 'BinaryExpression', 'left': {'type': 'Identifier', 'name': 'num1'}, 'operator': '+', 'right': {'type': 'Identifier', 'name': 'num2'}}}]}}}]\n",
      "│   │   └── kind|const\n",
      "│   ├── body1|\n",
      "│   │   ├── type|VariableDeclaration\n",
      "│   │   ├── declarations|[{'type': 'VariableDeclarator', 'id': {'type': 'Identifier', 'name': 'result'}, 'init': {'type': 'CallExpression', 'callee': {'type': 'Identifier', 'name': 'add'}, 'arguments': [{'type': 'Literal', 'value': 1, 'raw': '1'}, {'type': 'Literal', 'value': 2, 'raw': '2'}], 'optional': False}}]\n",
      "│   │   └── kind|const\n",
      "│   └── body2|\n",
      "│       └── expression|\n",
      "│           ├── type|CallExpression\n",
      "│           ├── callee|\n",
      "│           │   ├── type|MemberExpression\n",
      "│           │   ├── object|\n",
      "│           │   │   ├── type|Identifier\n",
      "│           │   │   └── name|console\n",
      "│           │   ├── property|\n",
      "│           │   │   ├── type|Identifier\n",
      "│           │   │   └── name|log\n",
      "│           │   ├── computed|False\n",
      "│           │   └── optional|False\n",
      "│           ├── arguments|[{'type': 'Identifier', 'name': 'result'}]\n",
      "│           └── optional|False\n",
      "└── sourceType|script\n"
     ]
    }
   ],
   "source": [
    "root  = at.Node(name='root', key='root', an_attr='')\n",
    "nodes = {'root' : root}\n",
    "tree_builder(ast)\n",
    "\n",
    "for pre, fill, node in at.RenderTree(root):\n",
    "    print(\"%s%s|%s\" % (pre, node.key, node.an_attr))\n",
    "\n",
    "atex.DotExporter(\n",
    "    root, nodeattrfunc = lambda n : 'label=\"{}\\n{}\"'.format(n.key, n.an_attr)\n",
    ").to_picture('root.png')"
   ]
  },
  {
   "cell_type": "code",
   "execution_count": null,
   "metadata": {},
   "outputs": [],
   "source": []
  },
  {
   "cell_type": "code",
   "execution_count": null,
   "metadata": {},
   "outputs": [],
   "source": []
  }
 ],
 "metadata": {
  "kernelspec": {
   "display_name": "Python 3",
   "language": "python",
   "name": "python3"
  },
  "language_info": {
   "codemirror_mode": {
    "name": "ipython",
    "version": 3
   },
   "file_extension": ".py",
   "mimetype": "text/x-python",
   "name": "python",
   "nbconvert_exporter": "python",
   "pygments_lexer": "ipython3",
   "version": "3.9.4"
  }
 },
 "nbformat": 4,
 "nbformat_minor": 2
}
